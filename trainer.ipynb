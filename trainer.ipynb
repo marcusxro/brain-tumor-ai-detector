{
 "cells": [
  {
   "cell_type": "code",
   "execution_count": 3,
   "id": "54925128-34ac-40bf-9bec-503470233e16",
   "metadata": {},
   "outputs": [
    {
     "name": "stdout",
     "output_type": "stream",
     "text": [
      "✅ Unzip complete!\n"
     ]
    }
   ],
   "source": [
    "# unzips the file into custom_data\n",
    "import zipfile\n",
    "import os\n",
    "\n",
    "zip_path = r'C:\\Users\\Marcus\\Documents\\braintumor\\my_model\\data.zip'\n",
    "extract_path = r'C:\\Users\\Marcus\\Documents\\braintumor\\my_model\\custom_data'\n",
    "\n",
    "\n",
    "# Create the output directory if it doesn't exist\n",
    "os.makedirs(extract_path, exist_ok=True)\n",
    "\n",
    "with zipfile.ZipFile(zip_path, 'r') as zip_ref:\n",
    "    zip_ref.extractall(extract_path)\n",
    "\n",
    "print(\"✅ Unzip complete!\")\n"
   ]
  },
  {
   "cell_type": "code",
   "execution_count": 5,
   "id": "92a1bf48-8db1-4dc1-9a5b-c851fa94b1c4",
   "metadata": {},
   "outputs": [
    {
     "name": "stderr",
     "output_type": "stream",
     "text": [
      "  % Total    % Received % Xferd  Average Speed   Time    Time     Time  Current\n",
      "                                 Dload  Upload   Total   Spent    Left  Speed\n",
      "\n",
      "  0     0    0     0    0     0      0      0 --:--:-- --:--:-- --:--:--     0\n",
      "100  3203  100  3203    0     0   7856      0 --:--:-- --:--:-- --:--:--  7869\n",
      "100  3203  100  3203    0     0   7854      0 --:--:-- --:--:-- --:--:--  7869\n"
     ]
    },
    {
     "name": "stdout",
     "output_type": "stream",
     "text": [
      "Created folder at C:\\Users\\Marcus\\Documents\\braintumor\\my_model\\data/train/images.\n",
      "Created folder at C:\\Users\\Marcus\\Documents\\braintumor\\my_model\\data/train/labels.\n",
      "Created folder at C:\\Users\\Marcus\\Documents\\braintumor\\my_model\\data/validation/images.\n",
      "Created folder at C:\\Users\\Marcus\\Documents\\braintumor\\my_model\\data/validation/labels.\n",
      "Number of image files: 253\n",
      "Number of annotation files: 253\n",
      "Images moving to train: 227\n",
      "Images moving to validation: 26\n"
     ]
    }
   ],
   "source": [
    "#algorithm for transforming the custom_data to train and validation\n",
    "!curl -o train_val_split.py https://raw.githubusercontent.com/EdjeElectronics/Train-and-Deploy-YOLO-Models/refs/heads/main/utils/train_val_split.py\n",
    "!python train_val_split.py --datapath=\"C:/Users/Marcus/Documents/braintumor/my_model/custom_data\" --train_pct=0.9\n"
   ]
  },
  {
   "cell_type": "code",
   "execution_count": null,
   "id": "baa47164-9694-4a42-be29-15259bfb59d8",
   "metadata": {},
   "outputs": [],
   "source": [
    "pip install ultralytics"
   ]
  },
  {
   "cell_type": "code",
   "execution_count": 11,
   "id": "5b281caa-8024-4a1b-bcda-e57df9073611",
   "metadata": {},
   "outputs": [
    {
     "name": "stdout",
     "output_type": "stream",
     "text": [
      "8.3.103\n"
     ]
    }
   ],
   "source": [
    "import ultralytics\n",
    "print(ultralytics.__version__)\n",
    "\n",
    "#make sure that you have it correctly installed"
   ]
  },
  {
   "cell_type": "code",
   "execution_count": 25,
   "id": "b4cbb650-dc5f-413e-aab4-4cc6c5ef8055",
   "metadata": {},
   "outputs": [
    {
     "name": "stdout",
     "output_type": "stream",
     "text": [
      "Created config file at C:/Users/Marcus/Documents/braintumor/my_model/custom_data/data.yaml\n",
      "\n",
      "File contents:\n",
      "\n",
      "path: C:/Users/Marcus/Documents/braintumor/my_model/custom_data\n",
      "train: C:/Users/Marcus/Documents/braintumor/my_model/data/train\n",
      "val: C:/Users/Marcus/Documents/braintumor/my_model/data/validation\n",
      "nc: 2\n",
      "names:\n",
      "- Brain Tumor\n",
      "- Healthy Brain\n",
      "\n"
     ]
    }
   ],
   "source": [
    "#training configurations\n",
    "\n",
    "# Python function to automatically create data.yaml config file\n",
    "# 1. Reads \"classes.txt\" file to get list of class names\n",
    "# 2. Creates data dictionary with correct paths to folders, number of classes, and names of classes\n",
    "# 3. Writes data in YAML format to data.yaml\n",
    "\n",
    "import yaml\n",
    "import os\n",
    "\n",
    "def create_data_yaml(path_to_classes_txt, path_to_data_yaml):\n",
    "\n",
    "  # Read class.txt to get class names\n",
    "  if not os.path.exists(path_to_classes_txt):\n",
    "    print(f'classes.txt file not found! Please create a classes.txt labelmap and move it to {path_to_classes_txt}')\n",
    "    return\n",
    "  with open(path_to_classes_txt, 'r') as f:\n",
    "    classes = []\n",
    "    for line in f.readlines():\n",
    "      if len(line.strip()) == 0: continue\n",
    "      classes.append(line.strip())\n",
    "  number_of_classes = len(classes)\n",
    "\n",
    "  # Create data dictionary\n",
    "  # replace with your path here \n",
    "  data = {\n",
    "      'path': 'C:/Users/Marcus/Documents/braintumor/my_model/custom_data',\n",
    "      'train': 'C:/Users/Marcus/Documents/braintumor/my_model/data/train',\n",
    "      'val': 'C:/Users/Marcus/Documents/braintumor/my_model/data/validation',\n",
    "      'nc': number_of_classes,\n",
    "      'names': classes\n",
    "  }\n",
    "\n",
    "  # Write data to YAML file\n",
    "  with open(path_to_data_yaml, 'w') as f:\n",
    "    yaml.dump(data, f, sort_keys=False)\n",
    "  print(f'Created config file at {path_to_data_yaml}')\n",
    "\n",
    "  return\n",
    "\n",
    "# Define path to classes.txt and run function\n",
    "path_to_classes_txt = 'C:/Users/Marcus/Documents/braintumor/my_model/custom_data/classes.txt'\n",
    "path_to_data_yaml = 'C:/Users/Marcus/Documents/braintumor/my_model/custom_data/data.yaml'\n",
    "\n",
    "create_data_yaml(path_to_classes_txt, path_to_data_yaml)\n",
    "\n",
    "print('\\nFile contents:\\n')\n",
    "with open(path_to_data_yaml, 'r') as f:\n",
    "    print(f.read())\n",
    "\n",
    "#it should return your classes/names"
   ]
  },
  {
   "cell_type": "code",
   "execution_count": null,
   "id": "4e667300-6999-4456-bc05-ec7c4453e455",
   "metadata": {},
   "outputs": [
    {
     "name": "stdout",
     "output_type": "stream",
     "text": [
      "Ultralytics 8.3.103 🚀 Python-3.11.0 torch-2.6.0+cpu CPU (AMD Ryzen 5 5500)\n",
      "\u001b[34m\u001b[1mengine\\trainer: \u001b[0mtask=detect, mode=train, model=yolo11n.pt, data=C:/Users/Marcus/Documents/braintumor/my_model/custom_data/data.yaml, epochs=60, time=None, patience=100, batch=8, imgsz=640, save=True, save_period=-1, cache=False, device=None, workers=4, project=None, name=train13, exist_ok=False, pretrained=True, optimizer=auto, verbose=True, seed=0, deterministic=True, single_cls=False, rect=False, cos_lr=False, close_mosaic=10, resume=False, amp=True, fraction=1.0, profile=False, freeze=None, multi_scale=False, overlap_mask=True, mask_ratio=4, dropout=0.0, val=True, split=val, save_json=False, save_hybrid=False, conf=None, iou=0.7, max_det=300, half=False, dnn=False, plots=True, source=None, vid_stride=1, stream_buffer=False, visualize=False, augment=False, agnostic_nms=False, classes=None, retina_masks=False, embed=None, show=False, save_frames=False, save_txt=False, save_conf=False, save_crop=False, show_labels=True, show_conf=True, show_boxes=True, line_width=None, format=torchscript, keras=False, optimize=False, int8=False, dynamic=False, simplify=True, opset=None, workspace=None, nms=False, lr0=0.01, lrf=0.01, momentum=0.937, weight_decay=0.0005, warmup_epochs=3.0, warmup_momentum=0.8, warmup_bias_lr=0.1, box=7.5, cls=0.5, dfl=1.5, pose=12.0, kobj=1.0, nbs=64, hsv_h=0.015, hsv_s=0.7, hsv_v=0.4, degrees=0.0, translate=0.1, scale=0.5, shear=0.0, perspective=0.0, flipud=0.0, fliplr=0.5, bgr=0.0, mosaic=1.0, mixup=0.0, copy_paste=0.0, copy_paste_mode=flip, auto_augment=randaugment, erasing=0.4, crop_fraction=1.0, cfg=None, tracker=botsort.yaml, save_dir=D:\\facedetect\\backend\\runs\\detect\\train13\n",
      "Overriding model.yaml nc=80 with nc=2\n",
      "\n",
      "from  n    params  module                                       arguments\n",
      "0                  -1  1       464  ultralytics.nn.modules.conv.Conv             [3, 16, 3, 2]\n",
      "1                  -1  1      4672  ultralytics.nn.modules.conv.Conv             [16, 32, 3, 2]\n",
      "2                  -1  1      6640  ultralytics.nn.modules.block.C3k2            [32, 64, 1, False, 0.25]\n",
      "3                  -1  1     36992  ultralytics.nn.modules.conv.Conv             [64, 64, 3, 2]\n",
      "4                  -1  1     26080  ultralytics.nn.modules.block.C3k2            [64, 128, 1, False, 0.25]\n",
      "5                  -1  1    147712  ultralytics.nn.modules.conv.Conv             [128, 128, 3, 2]\n",
      "6                  -1  1     87040  ultralytics.nn.modules.block.C3k2            [128, 128, 1, True]\n",
      "7                  -1  1    295424  ultralytics.nn.modules.conv.Conv             [128, 256, 3, 2]\n",
      "8                  -1  1    346112  ultralytics.nn.modules.block.C3k2            [256, 256, 1, True]\n",
      "9                  -1  1    164608  ultralytics.nn.modules.block.SPPF            [256, 256, 5]\n",
      "10                  -1  1    249728  ultralytics.nn.modules.block.C2PSA           [256, 256, 1]\n",
      "11                  -1  1         0  torch.nn.modules.upsampling.Upsample         [None, 2, 'nearest']\n",
      "12             [-1, 6]  1         0  ultralytics.nn.modules.conv.Concat           [1]\n",
      "13                  -1  1    111296  ultralytics.nn.modules.block.C3k2            [384, 128, 1, False]\n",
      "14                  -1  1         0  torch.nn.modules.upsampling.Upsample         [None, 2, 'nearest']\n",
      "15             [-1, 4]  1         0  ultralytics.nn.modules.conv.Concat           [1]\n",
      "16                  -1  1     32096  ultralytics.nn.modules.block.C3k2            [256, 64, 1, False]\n",
      "17                  -1  1     36992  ultralytics.nn.modules.conv.Conv             [64, 64, 3, 2]\n",
      "18            [-1, 13]  1         0  ultralytics.nn.modules.conv.Concat           [1]\n",
      "19                  -1  1     86720  ultralytics.nn.modules.block.C3k2            [192, 128, 1, False]\n",
      "20                  -1  1    147712  ultralytics.nn.modules.conv.Conv             [128, 128, 3, 2]\n",
      "21            [-1, 10]  1         0  ultralytics.nn.modules.conv.Concat           [1]\n",
      "22                  -1  1    378880  ultralytics.nn.modules.block.C3k2            [384, 256, 1, True]\n",
      "23        [16, 19, 22]  1    431062  ultralytics.nn.modules.head.Detect           [2, [64, 128, 256]]\n",
      "YOLO11n summary: 181 layers, 2,590,230 parameters, 2,590,214 gradients, 6.4 GFLOPs\n",
      "\n",
      "Transferred 448/499 items from pretrained weights\n",
      "Freezing layer 'model.23.dfl.conv.weight'\n",
      "Plotting labels to D:\\facedetect\\backend\\runs\\detect\\train13\\labels.jpg...\n",
      "\u001b[34m\u001b[1moptimizer:\u001b[0m 'optimizer=auto' found, ignoring 'lr0=0.01' and 'momentum=0.937' and determining best 'optimizer', 'lr0' and 'momentum' automatically...\n",
      "\u001b[34m\u001b[1moptimizer:\u001b[0m AdamW(lr=0.001667, momentum=0.9) with parameter groups 81 weight(decay=0.0), 88 weight(decay=0.0005), 87 bias(decay=0.0)\n",
      "Image sizes 640 train, 640 val\n",
      "Using 0 dataloader workers\n",
      "Logging results to \u001b[1mD:\\facedetect\\backend\\runs\\detect\\train13\u001b[0m\n",
      "Starting training for 60 epochs...\n",
      "\n",
      "Epoch    GPU_mem   box_loss   cls_loss   dfl_loss  Instances       Size\n"
     ]
    }
   ],
   "source": [
    "import subprocess\n",
    "\n",
    "# Path to the data.yaml file\n",
    "data_path = 'C:/Users/Marcus/Documents/braintumor/my_model/custom_data/data.yaml'\n",
    "\n",
    "# Command for training with options to adjust batch size, workers, and log output\n",
    "command = f\"yolo detect train data={data_path} epochs=60 imgsz=640 batch=8 workers=4\"\n",
    "\n",
    "# Run the command and capture output in real-time\n",
    "process = subprocess.Popen(command, shell=True, stdout=subprocess.PIPE, stderr=subprocess.PIPE, text=True, encoding='utf-8')\n",
    "\n",
    "# Print the output while the process runs\n",
    "while True:\n",
    "    output = process.stdout.readline()\n",
    "    if output == '' and process.poll() is not None:\n",
    "        break\n",
    "    if output:\n",
    "        print(output.strip())  # Print the output line\n",
    "\n",
    "# Capture and print errors if there are any\n",
    "stderr_output = process.stderr.read()\n",
    "if stderr_output:\n",
    "    print(f\"ERROR: {stderr_output}\")\n",
    "\n",
    "# Wait for the process to finish\n",
    "process.wait()\n",
    "\n",
    "print(\"Training completed.\")\n",
    "\n",
    "\n",
    "#or run it in terminal if youre having errors\n",
    "# !yolo detect train data=C:/Users/Marcus/Documents/braintumor/my_model/custom_data/data.yaml model=yolo11s.pt epochs=60 imgsz=640\n"
   ]
  },
  {
   "cell_type": "code",
   "execution_count": 1,
   "id": "22052e7a-af5c-4bf5-8830-c97bede873ea",
   "metadata": {},
   "outputs": [
    {
     "name": "stdout",
     "output_type": "stream",
     "text": [
      "\n"
     ]
    }
   ],
   "source": [
    "#if The model has been trained; now it's time to test it! The commands below run the model on the images in the validation folder and then display\n",
    "#the results for the first 10 images. This is a good way to confirm your model is working as expected. Click Play on the blocks below to see how your\n",
    "#model performs.\n",
    "\n",
    "!yolo detect predict model=C:/Users/Marcus/Documents/braintumor/my_model/runs/detect/train/weights/best.pt source=C:/Users/Marcus/Documents/braintumor/my_model/data/validation/images save=True"
   ]
  },
  {
   "cell_type": "code",
   "execution_count": null,
   "id": "0c7c9933-81da-490b-849c-d24d889d1d8f",
   "metadata": {},
   "outputs": [],
   "source": [
    "#save the prediction result\n",
    "\n",
    "import glob\n",
    "from IPython.display import Image, display\n",
    "for image_path in glob.glob(f'C:/Users/Marcus/Documents/braintumor/my_model/content/runs/detect/predict/*.jpg')[:10]:\n",
    "  display(Image(filename=image_path, height=400))\n",
    "  print('\\n')\n"
   ]
  }
 ],
 "metadata": {
  "kernelspec": {
   "display_name": "Python 3 (ipykernel)",
   "language": "python",
   "name": "python3"
  },
  "language_info": {
   "codemirror_mode": {
    "name": "ipython",
    "version": 3
   },
   "file_extension": ".py",
   "mimetype": "text/x-python",
   "name": "python",
   "nbconvert_exporter": "python",
   "pygments_lexer": "ipython3",
   "version": "3.11.0"
  }
 },
 "nbformat": 4,
 "nbformat_minor": 5
}
